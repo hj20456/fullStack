{
 "cells": [
  {
   "cell_type": "markdown",
   "metadata": {},
   "source": [
    "# python操作mongodb"
   ]
  },
  {
   "cell_type": "markdown",
   "metadata": {},
   "source": [
    "> [https://pymongo.readthedocs.io/en/stable/tutorial.html](https://pymongo.readthedocs.io/en/stable/tutorial.html)"
   ]
  },
  {
   "cell_type": "markdown",
   "metadata": {},
   "source": [
    "## 步骤"
   ]
  },
  {
   "cell_type": "markdown",
   "metadata": {},
   "source": [
    "### 1. 初始化"
   ]
  },
  {
   "cell_type": "code",
   "execution_count": 1,
   "metadata": {},
   "outputs": [],
   "source": [
    "# 初始化\n",
    "import pymongo\n",
    "from pymongo import MongoClient\n",
    "\n",
    "# 建立连接\n",
    "client = MongoClient() # 创建正在运行的mongod实例\n",
    "# client2 = MongoClient(\"localhost\" ,27017) # 显示指定主机和端口\n",
    "# client3 = MongoClient(\"mongodb://localhost:27017/) # 显示指定主机和端口\n"
   ]
  },
  {
   "cell_type": "markdown",
   "metadata": {},
   "source": [
    "### 2. 指定数据库和集合"
   ]
  },
  {
   "cell_type": "code",
   "execution_count": 2,
   "metadata": {},
   "outputs": [],
   "source": [
    "# 获取数据库\n",
    "db = client.test_database\n",
    "# db2 = client[\"test-database\"]\n",
    "\n",
    "# 获取集合(文档，对应表)\n",
    "collection = db.test_collection\n",
    "# collection2 =db[\"test-collection\"]\n"
   ]
  },
  {
   "cell_type": "markdown",
   "metadata": {},
   "source": [
    "### 3. 插入文档"
   ]
  },
  {
   "cell_type": "code",
   "execution_count": 19,
   "metadata": {},
   "outputs": [
    {
     "data": {
      "text/plain": [
       "InsertOneResult(ObjectId('65e8751615164ebb4205f4bc'), acknowledged=True)"
      ]
     },
     "execution_count": 19,
     "metadata": {},
     "output_type": "execute_result"
    }
   ],
   "source": [
    "# 创建文档（字典表示，数据单元）\n",
    "import datetime\n",
    "post = {\n",
    "    \"author\": \"Mike\",\n",
    "    \"text\": \"My first blog post!\",\n",
    "    \"tags\": [\"mongodb\", \"python\", \"pymongo\"],\n",
    "    \"date\": datetime.datetime.now(tz=datetime.timezone.utc),\n",
    "}\n",
    "# 将文档插入集合（数据添加到表）\n",
    "posts = db.posts\n",
    "post_id = posts.insert_one(post).inserted_id\n",
    "post_id"
   ]
  },
  {
   "cell_type": "code",
   "execution_count": 4,
   "metadata": {},
   "outputs": [
    {
     "data": {
      "text/plain": [
       "[ObjectId('65e86fd115164ebb4205f4b4'), ObjectId('65e86fd115164ebb4205f4b5')]"
      ]
     },
     "execution_count": 4,
     "metadata": {},
     "output_type": "execute_result"
    }
   ],
   "source": [
    "# 批量插入（返回ObjectId列表，模式自由，可随意增删文档）\n",
    "new_posts = [\n",
    "    {\n",
    "        \"author\": \"Mike\",\n",
    "        \"text\": \"Another post!\",\n",
    "        \"tags\": [\"bulk\", \"insert\"],\n",
    "        \"date\": datetime.datetime(2009, 11, 12, 11, 14),\n",
    "    },\n",
    "    {\n",
    "        \"author\": \"Eliot\",\n",
    "        \"title\": \"MongoDB is fun\",\n",
    "        \"text\": \"and pretty easy too!\",\n",
    "        \"date\": datetime.datetime(2009, 11, 10, 10, 45),\n",
    "    },\n",
    "]\n",
    "result = posts.insert_many(new_posts)\n",
    "result.inserted_ids"
   ]
  },
  {
   "cell_type": "markdown",
   "metadata": {},
   "source": [
    "### 4. 查看文档"
   ]
  },
  {
   "cell_type": "code",
   "execution_count": 5,
   "metadata": {},
   "outputs": [
    {
     "name": "stdout",
     "output_type": "stream",
     "text": [
      "{'_id': ObjectId('65e86fcd15164ebb4205f4b3'),\n",
      " 'author': 'Mike',\n",
      " 'date': datetime.datetime(2024, 3, 6, 13, 29, 49, 119000),\n",
      " 'tags': ['mongodb', 'python', 'pymongo'],\n",
      " 'text': 'My first blog post!'}\n",
      "{'_id': ObjectId('65e86fcd15164ebb4205f4b3'),\n",
      " 'author': 'Mike',\n",
      " 'date': datetime.datetime(2024, 3, 6, 13, 29, 49, 119000),\n",
      " 'tags': ['mongodb', 'python', 'pymongo'],\n",
      " 'text': 'My first blog post!'}\n",
      "{'_id': ObjectId('65e86fcd15164ebb4205f4b3'),\n",
      " 'author': 'Mike',\n",
      " 'date': datetime.datetime(2024, 3, 6, 13, 29, 49, 119000),\n",
      " 'tags': ['mongodb', 'python', 'pymongo'],\n",
      " 'text': 'My first blog post!'}\n"
     ]
    }
   ],
   "source": [
    "# 查看集合、文档\n",
    "import pprint\n",
    "\n",
    "pprint.pprint(posts.find_one())\n",
    "pprint.pprint(posts.find_one({\"author\": \"Mike\"}))\n",
    "pprint.pprint(posts.find_one({\"_id\": post_id}))\n",
    "post_id_as_str = str(post_id)\n",
    "posts.find_one({\"_id\": post_id_as_str})  # 字符型id无法查询，No result"
   ]
  },
  {
   "cell_type": "code",
   "execution_count": 6,
   "metadata": {},
   "outputs": [
    {
     "name": "stdout",
     "output_type": "stream",
     "text": [
      "{'_id': ObjectId('65e86fcd15164ebb4205f4b3'),\n",
      " 'author': 'Mike',\n",
      " 'date': datetime.datetime(2024, 3, 6, 13, 29, 49, 119000),\n",
      " 'tags': ['mongodb', 'python', 'pymongo'],\n",
      " 'text': 'My first blog post!'}\n",
      "{'_id': ObjectId('65e86fd115164ebb4205f4b4'),\n",
      " 'author': 'Mike',\n",
      " 'date': datetime.datetime(2009, 11, 12, 11, 14),\n",
      " 'tags': ['bulk', 'insert'],\n",
      " 'text': 'Another post!'}\n",
      "{'_id': ObjectId('65e86fd115164ebb4205f4b5'),\n",
      " 'author': 'Eliot',\n",
      " 'date': datetime.datetime(2009, 11, 10, 10, 45),\n",
      " 'text': 'and pretty easy too!',\n",
      " 'title': 'MongoDB is fun'}\n",
      "\n",
      "{'_id': ObjectId('65e86fcd15164ebb4205f4b3'),\n",
      " 'author': 'Mike',\n",
      " 'date': datetime.datetime(2024, 3, 6, 13, 29, 49, 119000),\n",
      " 'tags': ['mongodb', 'python', 'pymongo'],\n",
      " 'text': 'My first blog post!'}\n",
      "{'_id': ObjectId('65e86fd115164ebb4205f4b4'),\n",
      " 'author': 'Mike',\n",
      " 'date': datetime.datetime(2009, 11, 12, 11, 14),\n",
      " 'tags': ['bulk', 'insert'],\n",
      " 'text': 'Another post!'}\n"
     ]
    }
   ],
   "source": [
    "# 查询多个文档\n",
    "for post in posts.find():\n",
    "    pprint.pprint(post)\n",
    "print()\n",
    "for post in posts.find({\"author\":\"Mike\"}):\n",
    "    pprint.pprint(post)"
   ]
  },
  {
   "cell_type": "code",
   "execution_count": 7,
   "metadata": {},
   "outputs": [
    {
     "name": "stdout",
     "output_type": "stream",
     "text": [
      "3\n",
      "2\n"
     ]
    }
   ],
   "source": [
    "# 文档计数\n",
    "print(posts.count_documents({}))\n",
    "print(posts.count_documents({\"author\":\"Mike\"}))"
   ]
  },
  {
   "cell_type": "code",
   "execution_count": 9,
   "metadata": {},
   "outputs": [
    {
     "name": "stdout",
     "output_type": "stream",
     "text": [
      "{'_id': ObjectId('65e86fd115164ebb4205f4b5'),\n",
      " 'author': 'Eliot',\n",
      " 'date': datetime.datetime(2009, 11, 10, 10, 45),\n",
      " 'text': 'and pretty easy too!',\n",
      " 'title': 'MongoDB is fun'}\n",
      "{'_id': ObjectId('65e86fd115164ebb4205f4b4'),\n",
      " 'author': 'Mike',\n",
      " 'date': datetime.datetime(2009, 11, 12, 11, 14),\n",
      " 'tags': ['bulk', 'insert'],\n",
      " 'text': 'Another post!'}\n"
     ]
    }
   ],
   "source": [
    "# 范围查询\n",
    "d = datetime.datetime(2009, 11, 12, 12)\n",
    "for post in posts.find({\"date\": {\"$lt\": d}}).sort(\"author\"):\n",
    "    pprint.pprint(post)"
   ]
  },
  {
   "cell_type": "code",
   "execution_count": 10,
   "metadata": {},
   "outputs": [
    {
     "data": {
      "text/plain": [
       "{'_id': ObjectId('65e86fcd15164ebb4205f4b3'),\n",
       " 'author': 'Mike',\n",
       " 'text': 'My first blog post!',\n",
       " 'tags': ['mongodb', 'python', 'pymongo'],\n",
       " 'date': datetime.datetime(2024, 3, 6, 13, 29, 49, 119000)}"
      ]
     },
     "execution_count": 10,
     "metadata": {},
     "output_type": "execute_result"
    }
   ],
   "source": [
    "# str转换为ObjectId\n",
    "from bson.objectid import ObjectId\n",
    "\n",
    "post_id = ObjectId(post_id_as_str)\n",
    "posts.find_one({\"_id\": post_id})"
   ]
  },
  {
   "cell_type": "code",
   "execution_count": 11,
   "metadata": {},
   "outputs": [
    {
     "data": {
      "text/plain": [
       "['_id_', 'user_id_1']"
      ]
     },
     "execution_count": 11,
     "metadata": {},
     "output_type": "execute_result"
    }
   ],
   "source": [
    "# 创建唯一索引\n",
    "result = db.profiles.create_index([(\"user_id\",pymongo.ASCENDING)], unique=True)\n",
    "sorted(list(db.profiles.index_information())) # 索引信息"
   ]
  },
  {
   "cell_type": "code",
   "execution_count": 12,
   "metadata": {},
   "outputs": [],
   "source": [
    "# 插入文档数据\n",
    "user_profiles = [{\"user_id\": 211, \"name\": \"Luke\"}, {\"user_id\": 212, \"name\": \"Ziltoid\"}]\n",
    "result = db.profiles.insert_many(user_profiles)"
   ]
  },
  {
   "cell_type": "code",
   "execution_count": 14,
   "metadata": {},
   "outputs": [],
   "source": [
    "# 插入重复文档测试\n",
    "new_profile = {\"user_id\": 213, \"name\": \"Drew\"}\n",
    "duplicate_profile = {\"user_id\": 212, \"name\": \"Tommy\"}\n",
    "result = db.profiles.insert_one(new_profile)  # This is fine.\n",
    "# result = db.profiles.insert_one(duplicate_profile) # 下一个单元格"
   ]
  },
  {
   "cell_type": "code",
   "execution_count": 15,
   "metadata": {},
   "outputs": [
    {
     "name": "stdout",
     "output_type": "stream",
     "text": [
      "E11000 duplicate key error collection: test_database.profiles index: user_id_1 dup key: { user_id: 212 }\n"
     ]
    }
   ],
   "source": [
    "from pymongo.errors import DuplicateKeyError\n",
    "try:\n",
    "    result = db.profiles.insert_one(duplicate_profile)\n",
    "except DuplicateKeyError as e:\n",
    "    print(e.details['errmsg'])"
   ]
  },
  {
   "cell_type": "code",
   "execution_count": null,
   "metadata": {},
   "outputs": [],
   "source": []
  }
 ],
 "metadata": {
  "kernelspec": {
   "display_name": "Python 3",
   "language": "python",
   "name": "python3"
  },
  "language_info": {
   "codemirror_mode": {
    "name": "ipython",
    "version": 3
   },
   "file_extension": ".py",
   "mimetype": "text/x-python",
   "name": "python",
   "nbconvert_exporter": "python",
   "pygments_lexer": "ipython3",
   "version": "3.12.2"
  }
 },
 "nbformat": 4,
 "nbformat_minor": 2
}
