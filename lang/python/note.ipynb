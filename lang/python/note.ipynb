{
 "cells": [
  {
   "cell_type": "markdown",
   "metadata": {},
   "source": [
    "# jupyter笔记本"
   ]
  },
  {
   "cell_type": "markdown",
   "metadata": {},
   "source": [
    "## 连接sqlite3"
   ]
  },
  {
   "cell_type": "code",
   "execution_count": 56,
   "metadata": {},
   "outputs": [],
   "source": [
    "# 初始化\n",
    "import sqlite3\n",
    "\n",
    "\n",
    "cx = sqlite3.connect(\"c:\\\\users\\\\hj\\\\documents\\\\test.db\")\n",
    "# cx = sqlite3.connect(\":memory:\")\n",
    "cu = cx.cursor()"
   ]
  },
  {
   "cell_type": "code",
   "execution_count": 57,
   "metadata": {},
   "outputs": [
    {
     "name": "stdout",
     "output_type": "stream",
     "text": [
      "('C', 1972)\n",
      "('Python', 1991)\n",
      "('Java', 1995)\n",
      "('C', 1972)\n",
      "('Python', 1991)\n",
      "('Java', 1995)\n"
     ]
    }
   ],
   "source": [
    "# 执行\n",
    "from sqlite3 import OperationalError\n",
    "\n",
    "\n",
    "try:\n",
    "    cu.execute(\"create table lang(name, first_appeared)\")\n",
    "except OperationalError: \n",
    "    pass   \n",
    "    \n",
    "# cu.execute(\"insert into lang values (?, ?)\", (\"C\", 1972))\n",
    "# cu.execute(\"insert into lang values (?, ?)\", (\"Python\", 1991))\n",
    "# cu.execute(\"insert into lang values (?, ?)\", (\"Java\", 1995))\n",
    "for row in cu.execute(\"select * from lang\"):\n",
    "    print(row)"
   ]
  },
  {
   "cell_type": "code",
   "execution_count": 58,
   "metadata": {},
   "outputs": [
    {
     "name": "stdout",
     "output_type": "stream",
     "text": [
      "('C', 1972)\n",
      "[('Python', 1991), ('Java', 1995)]\n",
      "[('C', 1972), ('Python', 1991), ('Java', 1995)]\n"
     ]
    }
   ],
   "source": [
    "lang = cu.execute(\"select * from lang\")\n",
    "print(lang.fetchone())\n",
    "print(lang.fetchmany(2))\n",
    "print(lang.fetchall())"
   ]
  },
  {
   "cell_type": "code",
   "execution_count": 61,
   "metadata": {},
   "outputs": [
    {
     "data": {
      "text/plain": [
       "[('C', 1972), ('Python', 1991), ('Java', 1995)]"
      ]
     },
     "execution_count": 61,
     "metadata": {},
     "output_type": "execute_result"
    }
   ],
   "source": [
    "cu.execute(\"select * from lang\").fetchall()"
   ]
  },
  {
   "cell_type": "code",
   "execution_count": 60,
   "metadata": {},
   "outputs": [],
   "source": [
    "# cx.commit()\n",
    "cx.rollback() # 提交之前都可以回滚，撤销之前的改变"
   ]
  },
  {
   "cell_type": "code",
   "execution_count": 55,
   "metadata": {},
   "outputs": [],
   "source": [
    "# 关闭\n",
    "cx.close()"
   ]
  },
  {
   "cell_type": "markdown",
   "metadata": {},
   "source": [
    "## 连接MySQL"
   ]
  },
  {
   "cell_type": "code",
   "execution_count": 7,
   "metadata": {},
   "outputs": [],
   "source": [
    "from __future__ import print_function\n",
    "\n",
    "import mysql.connector\n",
    "from mysql.connector import errorcode\n",
    "\n",
    "cnx = mysql.connector.connect(user='root', password='root', host='127.0.0.1')\n",
    "cursor = cnx.cursor()"
   ]
  },
  {
   "cell_type": "code",
   "execution_count": 6,
   "metadata": {},
   "outputs": [],
   "source": [
    "DB_NAME = 'employees'\n",
    "\n",
    "TABLES = {}\n",
    "TABLES['employees'] = (\n",
    "    \"CREATE TABLE `employees` (\"\n",
    "    \"  `emp_no` int(11) NOT NULL AUTO_INCREMENT,\"\n",
    "    \"  `birth_date` date NOT NULL,\"\n",
    "    \"  `first_name` varchar(14) NOT NULL,\"\n",
    "    \"  `last_name` varchar(16) NOT NULL,\"\n",
    "    \"  `gender` enum('M','F') NOT NULL,\"\n",
    "    \"  `hire_date` date NOT NULL,\"\n",
    "    \"  PRIMARY KEY (`emp_no`)\"\n",
    "    \") ENGINE=InnoDB\")\n",
    "\n",
    "TABLES['departments'] = (\n",
    "    \"CREATE TABLE `departments` (\"\n",
    "    \"  `dept_no` char(4) NOT NULL,\"\n",
    "    \"  `dept_name` varchar(40) NOT NULL,\"\n",
    "    \"  PRIMARY KEY (`dept_no`), UNIQUE KEY `dept_name` (`dept_name`)\"\n",
    "    \") ENGINE=InnoDB\")\n",
    "\n",
    "TABLES['salaries'] = (\n",
    "    \"CREATE TABLE `salaries` (\"\n",
    "    \"  `emp_no` int(11) NOT NULL,\"\n",
    "    \"  `salary` int(11) NOT NULL,\"\n",
    "    \"  `from_date` date NOT NULL,\"\n",
    "    \"  `to_date` date NOT NULL,\"\n",
    "    \"  PRIMARY KEY (`emp_no`,`from_date`), KEY `emp_no` (`emp_no`),\"\n",
    "    \"  CONSTRAINT `salaries_ibfk_1` FOREIGN KEY (`emp_no`) \"\n",
    "    \"     REFERENCES `employees` (`emp_no`) ON DELETE CASCADE\"\n",
    "    \") ENGINE=InnoDB\")\n",
    "\n",
    "TABLES['dept_emp'] = (\n",
    "    \"CREATE TABLE `dept_emp` (\"\n",
    "    \"  `emp_no` int(11) NOT NULL,\"\n",
    "    \"  `dept_no` char(4) NOT NULL,\"\n",
    "    \"  `from_date` date NOT NULL,\"\n",
    "    \"  `to_date` date NOT NULL,\"\n",
    "    \"  PRIMARY KEY (`emp_no`,`dept_no`), KEY `emp_no` (`emp_no`),\"\n",
    "    \"  KEY `dept_no` (`dept_no`),\"\n",
    "    \"  CONSTRAINT `dept_emp_ibfk_1` FOREIGN KEY (`emp_no`) \"\n",
    "    \"     REFERENCES `employees` (`emp_no`) ON DELETE CASCADE,\"\n",
    "    \"  CONSTRAINT `dept_emp_ibfk_2` FOREIGN KEY (`dept_no`) \"\n",
    "    \"     REFERENCES `departments` (`dept_no`) ON DELETE CASCADE\"\n",
    "    \") ENGINE=InnoDB\")\n",
    "\n",
    "TABLES['dept_manager'] = (\n",
    "    \"  CREATE TABLE `dept_manager` (\"\n",
    "    \"  `emp_no` int(11) NOT NULL,\"\n",
    "    \"  `dept_no` char(4) NOT NULL,\"\n",
    "    \"  `from_date` date NOT NULL,\"\n",
    "    \"  `to_date` date NOT NULL,\"\n",
    "    \"  PRIMARY KEY (`emp_no`,`dept_no`),\"\n",
    "    \"  KEY `emp_no` (`emp_no`),\"\n",
    "    \"  KEY `dept_no` (`dept_no`),\"\n",
    "    \"  CONSTRAINT `dept_manager_ibfk_1` FOREIGN KEY (`emp_no`) \"\n",
    "    \"     REFERENCES `employees` (`emp_no`) ON DELETE CASCADE,\"\n",
    "    \"  CONSTRAINT `dept_manager_ibfk_2` FOREIGN KEY (`dept_no`) \"\n",
    "    \"     REFERENCES `departments` (`dept_no`) ON DELETE CASCADE\"\n",
    "    \") ENGINE=InnoDB\")\n",
    "\n",
    "TABLES['titles'] = (\n",
    "    \"CREATE TABLE `titles` (\"\n",
    "    \"  `emp_no` int(11) NOT NULL,\"\n",
    "    \"  `title` varchar(50) NOT NULL,\"\n",
    "    \"  `from_date` date NOT NULL,\"\n",
    "    \"  `to_date` date DEFAULT NULL,\"\n",
    "    \"  PRIMARY KEY (`emp_no`,`title`,`from_date`), KEY `emp_no` (`emp_no`),\"\n",
    "    \"  CONSTRAINT `titles_ibfk_1` FOREIGN KEY (`emp_no`)\"\n",
    "    \"     REFERENCES `employees` (`emp_no`) ON DELETE CASCADE\"\n",
    "    \") ENGINE=InnoDB\")"
   ]
  },
  {
   "cell_type": "code",
   "execution_count": 8,
   "metadata": {},
   "outputs": [
    {
     "name": "stdout",
     "output_type": "stream",
     "text": [
      "Database employees does not exists.\n",
      "Database employees created successfully.\n"
     ]
    }
   ],
   "source": [
    "def create_database(cursor):\n",
    "    try:\n",
    "        cursor.execute(\n",
    "            \"CREATE DATABASE {} DEFAULT CHARACTER SET 'utf8'\".format(DB_NAME))\n",
    "    except mysql.connector.Error as err:\n",
    "        print(\"Failed creating database: {}\".format(err))\n",
    "        exit(1)\n",
    "\n",
    "try:\n",
    "    cursor.execute(\"USE {}\".format(DB_NAME))\n",
    "except mysql.connector.Error as err:\n",
    "    print(\"Database {} does not exists.\".format(DB_NAME))\n",
    "    if err.errno == errorcode.ER_BAD_DB_ERROR:\n",
    "        create_database(cursor)\n",
    "        print(\"Database {} created successfully.\".format(DB_NAME))\n",
    "        cnx.database = DB_NAME\n",
    "    else:\n",
    "        print(err)\n",
    "        exit(1)"
   ]
  },
  {
   "cell_type": "code",
   "execution_count": 9,
   "metadata": {},
   "outputs": [
    {
     "name": "stdout",
     "output_type": "stream",
     "text": [
      "Creating table employees: OK\n",
      "Creating table departments: OK\n",
      "Creating table salaries: OK\n",
      "Creating table dept_emp: OK\n",
      "Creating table dept_manager: OK\n",
      "Creating table titles: OK\n"
     ]
    }
   ],
   "source": [
    "for table_name in TABLES:\n",
    "    table_description = TABLES[table_name]\n",
    "    try:\n",
    "        print(\"Creating table {}: \".format(table_name), end='')\n",
    "        cursor.execute(table_description)\n",
    "    except mysql.connector.Error as err:\n",
    "        if err.errno == errorcode.ER_TABLE_EXISTS_ERROR:\n",
    "            print(\"already exists.\")\n",
    "        else:\n",
    "            print(err.msg)\n",
    "    else:\n",
    "        print(\"OK\")\n",
    "\n",
    "cursor.close()\n",
    "cnx.close()"
   ]
  },
  {
   "cell_type": "code",
   "execution_count": null,
   "metadata": {},
   "outputs": [],
   "source": [
    "cnx.close()"
   ]
  },
  {
   "cell_type": "code",
   "execution_count": null,
   "metadata": {},
   "outputs": [],
   "source": []
  }
 ],
 "metadata": {
  "kernelspec": {
   "display_name": "Python 3",
   "language": "python",
   "name": "python3"
  },
  "language_info": {
   "codemirror_mode": {
    "name": "ipython",
    "version": 3
   },
   "file_extension": ".py",
   "mimetype": "text/x-python",
   "name": "python",
   "nbconvert_exporter": "python",
   "pygments_lexer": "ipython3",
   "version": "3.12.2"
  }
 },
 "nbformat": 4,
 "nbformat_minor": 2
}
